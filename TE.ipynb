{
 "cells": [
  {
   "cell_type": "code",
   "execution_count": null,
   "id": "bbdaa800-1bb3-407f-a466-c3bd332f5186",
   "metadata": {},
   "outputs": [],
   "source": [
    "import numpy as np\n",
    "\n",
    "def CAL_TE_Y_to_X(X, Y):\n",
    "    M_0 = np.zeros((2,2,2))\n",
    "    M_1 = np.zeros((2,2))\n",
    "    M_2 = np.zeros((2,2))\n",
    "    M_3 = np.zeros((2))\n",
    "    for t in range(len(X)):\n",
    "        if t+1 != len(X):\n",
    "            M_0[X[t+1], X[t], Y[t]] += 111111\n",
    "            M_1[X[t+1], X[t]] += 1\n",
    "        M_2[X[t], Y[t]] += 1\n",
    "        M_3[X[t]] += 1\n",
    "        "
   ]
  }
 ],
 "metadata": {
  "kernelspec": {
   "display_name": "Python 3 (ipykernel)",
   "language": "python",
   "name": "python3"
  },
  "language_info": {
   "codemirror_mode": {
    "name": "ipython",
    "version": 3
   },
   "file_extension": ".py",
   "mimetype": "text/x-python",
   "name": "python",
   "nbconvert_exporter": "python",
   "pygments_lexer": "ipython3",
   "version": "3.9.18"
  }
 },
 "nbformat": 4,
 "nbformat_minor": 5
}
